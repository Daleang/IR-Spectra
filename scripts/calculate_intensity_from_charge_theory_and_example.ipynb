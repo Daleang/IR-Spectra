{
 "cells": [
  {
   "cell_type": "markdown",
   "metadata": {},
   "source": [
    "# Introduction\n",
    "\n",
    "Mohammad sent me a [really promising document](https://repository.asu.edu/attachments/94111/content//tmp/package-qKYqYB/Mott_asu_0010E_12173.pdf) which is a dissertation by Adam J. Mott and approved and published in 2012. Mott discusses how the intensities can be calculated, using either dipole moments or charges as well as the connection between the two models.\n",
    "\n",
    "In the first part of this notebook I will try to derive the charge based model from the dipole model using the equations in Mott's dissertation. In the second part I will use a modified version of my [first script](https://nbviewer.jupyter.org/github/dspoel/IR-Spectra/blob/master/scripts/visualization_of_spectra.ipynb) to calculate the intensities for N-methylacetamide as this molecule is already present as an example in the GitHub repository and Mott also calculated the same force field IR spectrum."
   ]
  },
  {
   "cell_type": "markdown",
   "metadata": {},
   "source": [
    "# The variables\n",
    "\n",
    "\n",
    "Before we start there are some variables that I would like to present to you to make it a lot easier to follow the derivation below. Please return to this table if you are unsure about any of the variables or, if you are really interested, read Mott's dissertation for a more thorough explanation.\n",
    "\n",
    "(Sorry that the table text is right-aligned. It's a parsing error in Jupyter notebook)\n",
    "\n",
    "| Variable      | Description    | \n",
    "|:--------------|:---------------|\n",
    "| $A$           | matrix whose columns are the normalized eigenvectors |\n",
    "| $A_{I,n}$     | element of the $n$th normal mode eigenvector corresponding to the $i$th atom and in direction $k$ |\n",
    "| $e_i$         | atomic charge of the $i$th atom |\n",
    "| $H$           | Hessian matrix |\n",
    "| $I$ (or $J$)  | refering to atom $i$ (or $j$) and its direction $k$ (or $l$) (NOTE: not to be confused with $I_{n}$) |\n",
    "| $I_{n}$       | intensity of the $n$th vibrational mode (NOTE: not to be confused with $I$) |\n",
    "| $i$ (or $j$)  | atom, as in the $i$th (or $j$th) atom |\n",
    "| $k$ (or $l$)  | direction (dimension), as in $x$, $y$ or $z$ direction |\n",
    "| $m_{i}$       | mass of $i$th atom |\n",
    "| $N$           | number of atoms in molecule |\n",
    "| $n$           | number of atomic coordinates, i.e. $3N$ |\n",
    "| $p_{k}$       | dipole moment in direction k |\n",
    "| $Q_{n}$       | normal coordinates, defined by the normal mode eigenvectors such that: <br> $Q=A^{T}q$ <br> Or the reverse: <br> $q=AQ$|\n",
    "| $q_{n}$       | mass-weighted atomic displacements, e.g. <br> $q_{1} = \\sqrt{m_{1}}\\Delta x_{1}$ <br> $q_{2} = \\sqrt{m_{1}}\\Delta y_{1}$ <br> $q_{3} = \\sqrt{m_{1}}\\Delta z_{1}$ <br> $q_{4} = \\sqrt{m_{2}}\\Delta x_{2}$ <br> etc.|\n",
    "| $x_{i}$, $y_{i}$, $z_{i}$| Cartesian coordinates |\n",
    "| $\\Delta x_{i}$,$\\Delta y_{i}$,$\\Delta z_{i}$ | atomic displacements of $i$th atom in $x$, $y$ and $z$ direction respectively in terms of Cartesian coordinates|"
   ]
  },
  {
   "cell_type": "markdown",
   "metadata": {},
   "source": [
    "# Part 1 - the charge based model\n",
    "\n",
    "When we run GROMACS and calculate the Hessian matrix $H$, the atomic displacements are mass-weighted. This means that GROMACS divides the elements $H_{ij}$ by the product $\\sqrt{m_{i}}\\sqrt{m_{j}}$ prior to diagonalization. The conversion for each atomic displacement can also be described with the following relations:\n",
    "\n",
    "$$\n",
    "\\begin{equation}\n",
    "q_{1} = \\sqrt{m_{1}}\\Delta x_{1} \\\\\n",
    "q_{2} = \\sqrt{m_{1}}\\Delta y_{1} \\\\\n",
    "q_{3} = \\sqrt{m_{1}}\\Delta z_{1} \\\\\n",
    "q_{4} = \\sqrt{m_{2}}\\Delta x_{2} \\\\\n",
    "q_{5} = \\sqrt{m_{2}}\\Delta y_{2} \\\\\n",
    "q_{6} = \\sqrt{m_{2}}\\Delta z_{2} \\\\\n",
    "\\vdots \\\\\n",
    "q_{n-2} = \\sqrt{m_{N}}\\Delta x_{N} \\\\\n",
    "q_{n-1} = \\sqrt{m_{N}}\\Delta y_{N} \\\\\n",
    "q_{n} = \\sqrt{m_{N}}\\Delta z_{N} \\\\\n",
    "\\tag{1}\n",
    "\\end{equation}\n",
    "$$\n",
    "\n",
    "where $n=3N$ and $N$ is the number of atoms in the molecule. When mass-weighting is used, the generated eigenvectors will be scaled back to plain Cartesian coordinates before generating the output. This will be relevant later on, as the formulas in Mott's dissertation assumes that the eigenvectors are normalized. After doing normal-mode analysis, we can produce an $n$-by-$n$ matrix $A$ whose columns are the normalized, eigenvectors of $H$. The normal-mode eigenvectors may be used to define a new set of coordinates called the normal coordinates, $Q_{1}$, $Q_{2}$, ... , $Q_{3N}$ using the following relation:\n",
    "\n",
    "$$\n",
    "\\begin{equation}\n",
    "Q=A^{T}q\n",
    "\\tag{2}\n",
    "\\end{equation}\n",
    "$$\n",
    "\n",
    "As $A$ consists of the normalized eigenvectors and $A^{T}A = A^{-1}A = I$ (i.e. the identity matrix), conversion back to mass-weighted displacements can be done using:\n",
    "\n",
    "$$\n",
    "\\begin{equation}\n",
    "q=AQ\n",
    "\\tag{3}\n",
    "\\end{equation}\n",
    "$$\n",
    "\n",
    "If $e_{i}$ is the charge of the $i$th atom, $A_{I,n}$ is the element of the $n$th normal mode eigenvector corresponding to the $i$th atom and in direction $k$, and $m_{i}$ is the mass of the $i$th atom, then the intensity for the $n$th normal mode can be calculated as follows:\n",
    "\n",
    "$$\n",
    "\\begin{equation}\n",
    "I_{n}=\\sum_{k=l=1}^{3}\\sum_{i=1}^{N}\\sum_{j=1}^{N} \\frac{e_{i}A_{I,n}A_{J,n}e_{j}}{\\sqrt{m_{i}}\\sqrt{m_{j}}}\n",
    "\\tag{4}\n",
    "\\end{equation}\n",
    "$$\n",
    "\n",
    "So, how did Mott come up with this formula that is based on the atomic charges and the values of the eigenvectors instead of the dipole moment? Let us start by looking at differential part the dipole moment formula:\n",
    "\n",
    "$$\n",
    "\\begin{equation}\n",
    "I_{n} \\propto \\left|\\frac{\\partial p}{\\partial Q_{n}}\\right|^2 = \\sum_{k=1}^{3}\\left(\\frac{\\partial p_{k}}{\\partial Q_{n}}\\right)^2\n",
    "\\tag{5}\n",
    "\\end{equation}\n",
    "$$\n",
    "\n",
    "where $p$ is the dipole moment and $Q$ is the normal coordinates. Please note that $k$ denotes the Cartesian directions where 1, 2, and 3 corresponds to $x$, $y$, and $z$ respectively. We can then expand the fraction in $(5)$ by using the chain rule:\n",
    "\n",
    "$$\n",
    "\\begin{equation}\n",
    "\\frac{\\partial p_{k}}{\\partial Q_{n}} = \\sum_{i=1}^{N}\\frac{\\partial p_{k}}{\\partial q_{I}}\\frac{\\partial q_{I}}{\\partial Q_{n}}\n",
    "\\tag{6}\n",
    "\\end{equation}\n",
    "$$\n",
    "\n",
    "We can then write each of the original coordinates, $q_{I}$, in terms of the $3N$ coordinates as:\n",
    "\n",
    "$$\n",
    "\\begin{equation}\n",
    "q_{I} = \\frac{\\partial q_{I}}{\\partial Q_{1}}Q_{1}+\\frac{\\partial q_{I}}{\\partial Q_{2}}Q_{2} + ... + \\frac{\\partial q_{I}}{\\partial Q_{3N}}Q_{3N}\n",
    "\\tag{7}\n",
    "\\end{equation}\n",
    "$$\n",
    "\n",
    "If we compare $(7)$ with $(3)$, we can see that:\n",
    "\n",
    "$$\n",
    "\\begin{equation}\n",
    "\\frac{\\partial q_{I}}{\\partial Q_{n}} = A_{I,n}\n",
    "\\tag{8}\n",
    "\\end{equation}\n",
    "$$\n",
    "\n",
    "which is the $n$th eigenvector of our Hessian. The contribution to the $k$ component of the molecule’s dipole moment by displacement $q_{I}$ of atom $i$ (mass $m_{i}$, charge $e_{i}$) is given by $e_{i}q_{I}/m_{i}$, where dividing by the square root of the atom’s mass is necessary to convert the mass-weighted coordinate $q_{I}$ back into an ordinary Cartesian displacement. This gives us:\n",
    "\n",
    "$$\n",
    "\\begin{equation}\n",
    "\\frac{\\partial p_{k}}{\\partial q_{I}} = \\frac{e_{i}}{\\sqrt{m_{i}}}\n",
    "\\tag{9}\n",
    "\\end{equation}\n",
    "$$\n",
    "\n",
    "Now, inserting $(8)$ and $(9)$ into $(6)$ we get:\n",
    "\n",
    "$$\n",
    "\\begin{equation}\n",
    "\\frac{\\partial p_{k}}{\\partial Q_{n}} = \\sum_{i=1}^{N}\\frac{e_{i}}{\\sqrt{m_{i}}}A_{I,n}\n",
    "\\tag{10}\n",
    "\\end{equation}\n",
    "$$\n",
    "\n",
    "We can then insert $(10)$ into $(5)$:\n",
    "\n",
    "$$\n",
    "\\begin{equation}\n",
    "I_{n} \\propto \\sum_{k=1}^{3}\\left(\\sum_{i=1}^{N}\\frac{e_{i}}{\\sqrt{m_{i}}}A_{I,n}\\right)^2\n",
    "\\tag{11}\n",
    "\\end{equation}\n",
    "$$\n",
    "\n",
    "And by expanding the squared expression we can derive the last two sums of $(4)$:\n",
    "\n",
    "$$\n",
    "\\begin{equation}\n",
    "\\left(\\sum_{i=1}^{N}\\frac{e_{i}}{\\sqrt{m_{i}}}A_{I,n}\\right)^2 = \\left(\\sum_{i=1}^{N}\\frac{e_{i}}{\\sqrt{m_{i}}}A_{I,n}\\right)\\left(\\sum_{j=1}^{N}\\frac{e_{j}}{\\sqrt{m_{j}}}A_{J,n}\\right) = \\sum_{i=1}^{N}\\sum_{j=1}^{N} \\frac{e_{i}A_{I,n}A_{J,n}e_{j}}{\\sqrt{m_{i}}\\sqrt{m_{j}}}\n",
    "\\tag{12}\n",
    "\\end{equation}\n",
    "$$\n",
    "\n",
    "with renamed indices $j$ and $J$ (with $l = k$  in the relations $I = 3(i − 1) + k$ and $J = 3(j − 1) + l$) for the second sum, which establishes the equivalence between calculating the IR intensities based on the dipole derivatives (Eq. $(5)$ and $(11)$) and Eq. $(4)$, i.e. we no longer have a proportionality between the two sides. Observe that the left hand side is computationally more efficient to compute than the right hand side. By inserting $(12)$ into $(4)$ we get the following equation:\n",
    "\n",
    "$$\n",
    "\\begin{equation}\n",
    "I_{n}=\\sum_{k=1}^{3}\\left(\\sum_{i=1}^{N}\\frac{e_{i}}{\\sqrt{m_{i}}}A_{I,n}\\right)^2\n",
    "\\tag{13}\n",
    "\\end{equation}\n",
    "$$"
   ]
  },
  {
   "cell_type": "markdown",
   "metadata": {},
   "source": [
    "# Part 2 - calculating the intensities for N-methylacetamide\n",
    "\n",
    "First of all, we need to import the relevant libraries for the visualization:"
   ]
  },
  {
   "cell_type": "code",
   "execution_count": 48,
   "metadata": {},
   "outputs": [],
   "source": [
    "import re, os, sys, math\n",
    "import numpy as np\n",
    "import subprocess as sp\n",
    "import matplotlib.pyplot as plt\n",
    "from   numpy import linalg as LA\n",
    "from   distutils.spawn import find_executable"
   ]
  },
  {
   "cell_type": "markdown",
   "metadata": {},
   "source": [
    "## Read data from GROMACS files\n",
    "\n",
    "We need to read all the required GROMACS files to calculate the intensities. We need the following:\n",
    "* Eigenfrequencies $v$ (eigenfreq.xvg)\n",
    "* Eigenvectors $A_{I}$ (eigenvec.trr)\n",
    "* Atomic charge mass factors $\\frac{e_{i}}{\\sqrt{m_{i}}}$  (topol.top)\n"
   ]
  },
  {
   "cell_type": "code",
   "execution_count": 49,
   "metadata": {},
   "outputs": [],
   "source": [
    "def find_gmx():\n",
    "    gmx = None\n",
    "    for mpi in [ \"_mpi\", \"\" ]:\n",
    "        for double in [ \"_d\", \"\"]:\n",
    "            gmx = find_executable(\"gmx\" + mpi + double)\n",
    "            if gmx:\n",
    "                return gmx\n",
    "    if not gmx:\n",
    "        sys.exit(\"GROMACS is not installed!!!\")\n",
    "                \n",
    "        "
   ]
  },
  {
   "cell_type": "code",
   "execution_count": 50,
   "metadata": {},
   "outputs": [],
   "source": [
    "def extract_gmx_data(path):\n",
    "    # eigenfrequencies\n",
    "    eigenfrequencies = []\n",
    "    for line in open(path + \"eigenfreq.xvg\", \"r\").readlines():\n",
    "        if line[0] != \"@\" and line[0] != \"#\":\n",
    "            split_line = re.split(\" +\",line.strip())\n",
    "            eigenfrequencies.append(float(split_line[1]))\n",
    "\n",
    "    # eigenvectors - NOTE: eigenvectors will be Nx3, not 3Nx1 as they are already ordered w.r.t. dimensions x, y, z\n",
    "    eigenvectors        = []\n",
    "    current_eigenvector = []\n",
    "    sp.run(find_gmx() + \" dump -f \" + path + \"eigenvec.trr > \" + path + \"eigenvec.txt\",shell=True)\n",
    "    eigenvector_file = open(path + \"eigenvec.txt\", \"r\")\n",
    "    os.remove(path + \"eigenvec.txt\")\n",
    "    first_vector_found = False \n",
    "    vector_found = False\n",
    "    for line in eigenvector_file:\n",
    "        line = line.strip()\n",
    "        if line[0:3] == \"x (\" and not first_vector_found:\n",
    "            first_vector_found = True\n",
    "        elif line[0:3] == \"x (\" and first_vector_found and not vector_found:\n",
    "            vector_found = True\n",
    "        elif line[0:2] == \"x[\" and first_vector_found and vector_found:\n",
    "            values = re.split(\"[{},]\",line)\n",
    "            current_eigenvector.append([float(values[1]),float(values[2]),float(values[3])])\n",
    "        elif vector_found and first_vector_found:\n",
    "            eigenvectors.append(current_eigenvector)\n",
    "            current_eigenvector = []\n",
    "            vector_found = False\n",
    "    eigenvectors.append(current_eigenvector) # don't forget to add the last eigenvector!\n",
    "    eigenvectors = np.asarray(eigenvectors)\n",
    "\n",
    "    # charges and mass factors\n",
    "    masses = []\n",
    "    charge_mass_factors = []\n",
    "    for line in open(path + \"topol.top\", \"r\").readlines():\n",
    "        words = line.strip().split()\n",
    "        if len(words) == 11:\n",
    "            masses.append(float(words[7]))\n",
    "            charge_mass_factors.append(float(words[6])/math.sqrt(float(words[7])))            \n",
    "    charge_mass_factors = np.asarray(charge_mass_factors)\n",
    "    \n",
    "    # reverse GROMACS eigenvector scaling and normalize the eigenvectors\n",
    "    for eigenvector in eigenvectors:\n",
    "        for i in range(np.size(eigenvector,0)):\n",
    "            eigenvector[i,:] = eigenvector[i,:]*math.sqrt(masses[i])\n",
    "        eigenvector = eigenvector/LA.norm(eigenvector)\n",
    "        \n",
    "    return eigenfrequencies, eigenvectors, charge_mass_factors"
   ]
  },
  {
   "cell_type": "markdown",
   "metadata": {},
   "source": [
    "## Calculate intensities\n",
    "\n",
    "We are now ready to calculate the intensities based on formula (13), i.e. $$I_{n}=\\sum_{k=1}^{3}\\left(\\sum_{i=1}^{N}\\frac{e_{i}}{\\sqrt{m_{i}}}A_{I,n}\\right)^2$$."
   ]
  },
  {
   "cell_type": "code",
   "execution_count": 51,
   "metadata": {},
   "outputs": [],
   "source": [
    "molecule_of_interest = \"N-methylacetamide\" # <--- feel free to change to other examples in the GitHub repository\n",
    "path = \"../examples/CGenFF/\" + molecule_of_interest + \"/\"\n",
    "\n",
    "eigfreq, eigvec, cmf = extract_gmx_data(path)\n",
    "\n",
    "intensities = []\n",
    "# iterate over eigenvectors\n",
    "for n in range(np.size(eigvec,0)):\n",
    "    intensity = 0\n",
    "    # iterate over dimensions\n",
    "    for k in range(3):\n",
    "        intensity = intensity + (cmf.dot(eigvec[n][:,k]))**2\n",
    "    intensities.append(intensity)"
   ]
  },
  {
   "cell_type": "markdown",
   "metadata": {},
   "source": [
    "## Plot spectrum\n",
    "\n",
    "To plot the spectra, we need a cauchy distribution function. Let's define it:"
   ]
  },
  {
   "cell_type": "code",
   "execution_count": 52,
   "metadata": {},
   "outputs": [],
   "source": [
    "def create_cauchy_distribution(v,v0,gamma,I):\n",
    "    # v     - NumPy array with points on x-axis (can be generated using e.g. 'np.linspace(1,4000,4000)')\n",
    "    # v0    - eigenfrequency aka median (not mean!) of distribution\n",
    "    # gamma - FWHM aka scale of distribution\n",
    "    # I     - intensity\n",
    "    c = np.zeros(len(v))\n",
    "    for i in range(len(v)):\n",
    "        c[i] = I*(1/math.pi)*(((1/2)*gamma)/((v[i]-v0)**2+((1/2)*gamma)**2))\n",
    "    return c"
   ]
  },
  {
   "cell_type": "markdown",
   "metadata": {},
   "source": [
    "And now, lets plot!"
   ]
  },
  {
   "cell_type": "code",
   "execution_count": 53,
   "metadata": {},
   "outputs": [
    {
     "data": {
      "text/plain": [
       "Text(0.5,0,'Frequency, $cm^{-1}$')"
      ]
     },
     "execution_count": 53,
     "metadata": {},
     "output_type": "execute_result"
    },
    {
     "data": {
      "image/png": "[encoded data removed]",
      "text/plain": [
       "<Figure size 1296x576 with 1 Axes>"
      ]
     },
     "metadata": {
      "needs_background": "light"
     },
     "output_type": "display_data"
    }
   ],
   "source": [
    "start_freq = 500\n",
    "stop_freq = 3900\n",
    "step_size = 4\n",
    "\n",
    "v = np.linspace(start_freq,stop_freq,int((stop_freq-start_freq)/step_size)+1)\n",
    "c_tot = np.zeros(len(v))\n",
    "\n",
    "# Set gamma (FWHM); Mott used 24 cm⁻¹\n",
    "gamma = 24\n",
    "\n",
    "# Is the molecule linear?\n",
    "molecule_is_linear = False # <--- change this to specify whether the molecule is linear or not\n",
    "if molecule_is_linear:\n",
    "    no_of_non_vibrational = 5\n",
    "else:\n",
    "    no_of_non_vibrational = 6\n",
    "\n",
    "# plot with mass factor\n",
    "plt.figure(figsize=(18, 8))\n",
    "for i in range(no_of_non_vibrational,len(eigfreq)):\n",
    "    c = create_cauchy_distribution(v,eigfreq[i],gamma,intensities[i])\n",
    "    c_tot = c_tot + c\n",
    "plt.plot(v,c_tot,label='spectra for ' + molecule_of_interest)\n",
    "plt.title(\"Cauchy distribution - GROMACS with $\\sqrt{m_{i}}$ division\")\n",
    "plt.legend(loc='upper right')\n",
    "plt.ylabel('IR intensity')\n",
    "plt.xlabel('Frequency, $cm^{-1}$')"
   ]
  },
  {
   "cell_type": "markdown",
   "metadata": {},
   "source": [
    "## Looking at the OEP-3 for comparison"
   ]
  },
  {
   "cell_type": "code",
   "execution_count": 28,
   "metadata": {},
   "outputs": [
    {
     "ename": "FileNotFoundError",
     "evalue": "[Errno 2] No such file or directory: '../examples/CGenFF/N-methylacetamide/OEP-3_IR_frequencies.txt'",
     "output_type": "error",
     "traceback": [
      "\u001b[0;31m---------------------------------------------------------------------------\u001b[0m",
      "\u001b[0;31mFileNotFoundError\u001b[0m                         Traceback (most recent call last)",
      "\u001b[0;32m<ipython-input-28-549fd874ba92>\u001b[0m in \u001b[0;36m<module>\u001b[0;34m()\u001b[0m\n\u001b[1;32m      1\u001b[0m \u001b[0mfrequencies_oep3\u001b[0m \u001b[0;34m=\u001b[0m \u001b[0mnp\u001b[0m\u001b[0;34m.\u001b[0m\u001b[0mempty\u001b[0m\u001b[0;34m(\u001b[0m\u001b[0mshape\u001b[0m\u001b[0;34m=\u001b[0m\u001b[0;34m(\u001b[0m\u001b[0;36m0\u001b[0m\u001b[0;34m,\u001b[0m\u001b[0;36m0\u001b[0m\u001b[0;34m)\u001b[0m\u001b[0;34m)\u001b[0m\u001b[0;34m\u001b[0m\u001b[0m\n\u001b[0;32m----> 2\u001b[0;31m \u001b[0mfrequencies_oep3_file\u001b[0m \u001b[0;34m=\u001b[0m \u001b[0mopen\u001b[0m\u001b[0;34m(\u001b[0m\u001b[0mpath\u001b[0m \u001b[0;34m+\u001b[0m \u001b[0;34m\"OEP-3_IR_frequencies.txt\"\u001b[0m\u001b[0;34m,\u001b[0m\u001b[0;34m\"r\"\u001b[0m\u001b[0;34m)\u001b[0m\u001b[0;34m\u001b[0m\u001b[0m\n\u001b[0m\u001b[1;32m      3\u001b[0m \u001b[0;32mfor\u001b[0m \u001b[0mline\u001b[0m \u001b[0;32min\u001b[0m \u001b[0mfrequencies_oep3_file\u001b[0m\u001b[0;34m:\u001b[0m\u001b[0;34m\u001b[0m\u001b[0m\n\u001b[1;32m      4\u001b[0m     \u001b[0mvalues\u001b[0m \u001b[0;34m=\u001b[0m \u001b[0mre\u001b[0m\u001b[0;34m.\u001b[0m\u001b[0msplit\u001b[0m\u001b[0;34m(\u001b[0m\u001b[0;34m\" +\"\u001b[0m\u001b[0;34m,\u001b[0m\u001b[0mline\u001b[0m\u001b[0;34m.\u001b[0m\u001b[0mstrip\u001b[0m\u001b[0;34m(\u001b[0m\u001b[0;34m)\u001b[0m\u001b[0;34m)\u001b[0m\u001b[0;34m\u001b[0m\u001b[0m\n\u001b[1;32m      5\u001b[0m     \u001b[0;32mfor\u001b[0m \u001b[0mvalue\u001b[0m \u001b[0;32min\u001b[0m \u001b[0mvalues\u001b[0m\u001b[0;34m:\u001b[0m\u001b[0;34m\u001b[0m\u001b[0m\n",
      "\u001b[0;31mFileNotFoundError\u001b[0m: [Errno 2] No such file or directory: '../examples/CGenFF/N-methylacetamide/OEP-3_IR_frequencies.txt'"
     ]
    }
   ],
   "source": [
    "frequencies_oep3 = np.empty(shape=(0,0))\n",
    "frequencies_oep3_file = open(path + \"OEP-3_IR_frequencies.txt\",\"r\")\n",
    "for line in frequencies_oep3_file:\n",
    "    values = re.split(\" +\",line.strip())\n",
    "    for value in values:\n",
    "        frequencies_oep3 = np.append(frequencies_oep3,float(value))\n",
    "\n",
    "intensities_oep3 = np.empty(shape=(0,0))\n",
    "intensities_oep3_file = open(path + \"OEP-3_IR_intensities.txt\",\"r\")\n",
    "for line in intensities_oep3_file:\n",
    "    values = re.split(\" +\",line.strip())\n",
    "    for value in values:\n",
    "        intensities_oep3 = np.append(intensities_oep3,float(value))\n",
    "        \n",
    "plt.figure(figsize=(18, 8))\n",
    "for i in range(len(frequencies_oep3)):\n",
    "    c = create_cauchy_distribution(v,frequencies_oep3[i],gamma,intensities_oep3[i])\n",
    "    c_tot = c_tot + c\n",
    "plt.plot(v,c_tot,label='spectra for ' + molecule_of_interest)\n",
    "plt.title(\"Cauchy distribution - OEP-3\")\n",
    "plt.legend(loc='upper right')\n",
    "plt.ylabel('IR intensity')\n",
    "plt.xlabel('Frequency, $cm^{-1}$')\n",
    "    "
   ]
  },
  {
   "cell_type": "code",
   "execution_count": null,
   "metadata": {},
   "outputs": [],
   "source": []
  }
 ],
 "metadata": {
  "kernelspec": {
   "display_name": "Python 3",
   "language": "python",
   "name": "python3"
  },
  "language_info": {
   "codemirror_mode": {
    "name": "ipython",
    "version": 3
   },
   "file_extension": ".py",
   "mimetype": "text/x-python",
   "name": "python",
   "nbconvert_exporter": "python",
   "pygments_lexer": "ipython3",
   "version": "3.5.6"
  }
 },
 "nbformat": 4,
 "nbformat_minor": 2
}
